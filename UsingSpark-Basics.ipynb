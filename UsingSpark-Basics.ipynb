{
 "cells": [
  {
   "cell_type": "code",
   "execution_count": 1,
   "id": "5fe794d7",
   "metadata": {},
   "outputs": [
    {
     "name": "stdout",
     "output_type": "stream",
     "text": [
      "Requirement already satisfied: pyspark in /opt/spark/python (3.2.1)\r\n",
      "Requirement already satisfied: py4j==0.10.9.3 in ./anaconda3/lib/python3.9/site-packages (from pyspark) (0.10.9.3)\r\n"
     ]
    }
   ],
   "source": [
    "!pip install pyspark"
   ]
  },
  {
   "cell_type": "code",
   "execution_count": 2,
   "id": "745d23cd",
   "metadata": {},
   "outputs": [],
   "source": [
    "import pyspark"
   ]
  },
  {
   "cell_type": "code",
   "execution_count": 3,
   "id": "70875bb1",
   "metadata": {},
   "outputs": [
    {
     "name": "stdout",
     "output_type": "stream",
     "text": [
      "<class 'pandas.core.frame.DataFrame'>\n",
      "RangeIndex: 891 entries, 0 to 890\n",
      "Data columns (total 12 columns):\n",
      " #   Column       Non-Null Count  Dtype  \n",
      "---  ------       --------------  -----  \n",
      " 0   PassengerId  891 non-null    int64  \n",
      " 1   Survived     891 non-null    int64  \n",
      " 2   Pclass       891 non-null    int64  \n",
      " 3   Name         891 non-null    object \n",
      " 4   Sex          891 non-null    object \n",
      " 5   Age          714 non-null    float64\n",
      " 6   SibSp        891 non-null    int64  \n",
      " 7   Parch        891 non-null    int64  \n",
      " 8   Ticket       891 non-null    object \n",
      " 9   Fare         891 non-null    float64\n",
      " 10  Cabin        204 non-null    object \n",
      " 11  Embarked     889 non-null    object \n",
      "dtypes: float64(2), int64(5), object(5)\n",
      "memory usage: 83.7+ KB\n"
     ]
    }
   ],
   "source": [
    "import pandas as pd\n",
    "df = pd.read_csv('titanic.csv')\n",
    "df.info()"
   ]
  },
  {
   "cell_type": "code",
   "execution_count": 4,
   "id": "396e3a16",
   "metadata": {},
   "outputs": [],
   "source": [
    "from pyspark.sql import SparkSession"
   ]
  },
  {
   "cell_type": "code",
   "execution_count": 5,
   "id": "80513b9f",
   "metadata": {},
   "outputs": [],
   "source": [
    "spark = SparkSession.builder.appName(\"pratice\").getOrCreate()"
   ]
  },
  {
   "cell_type": "code",
   "execution_count": 6,
   "id": "c13157cb",
   "metadata": {},
   "outputs": [
    {
     "data": {
      "text/html": [
       "\n",
       "            <div>\n",
       "                <p><b>SparkSession - hive</b></p>\n",
       "                \n",
       "        <div>\n",
       "            <p><b>SparkContext</b></p>\n",
       "\n",
       "            <p><a href=\"http://192.168.18.97:4049\">Spark UI</a></p>\n",
       "\n",
       "            <dl>\n",
       "              <dt>Version</dt>\n",
       "                <dd><code>v3.2.1</code></dd>\n",
       "              <dt>Master</dt>\n",
       "                <dd><code>local[*]</code></dd>\n",
       "              <dt>AppName</dt>\n",
       "                <dd><code>PySparkShell</code></dd>\n",
       "            </dl>\n",
       "        </div>\n",
       "        \n",
       "            </div>\n",
       "        "
      ],
      "text/plain": [
       "<pyspark.sql.session.SparkSession at 0x7f2eb8c759a0>"
      ]
     },
     "execution_count": 6,
     "metadata": {},
     "output_type": "execute_result"
    }
   ],
   "source": [
    "spark"
   ]
  },
  {
   "cell_type": "code",
   "execution_count": 7,
   "id": "82ebe996",
   "metadata": {},
   "outputs": [
    {
     "name": "stdout",
     "output_type": "stream",
     "text": [
      "root\n",
      " |-- PassengerId: string (nullable = true)\n",
      " |-- Survived: string (nullable = true)\n",
      " |-- Pclass: string (nullable = true)\n",
      " |-- Name: string (nullable = true)\n",
      " |-- Sex: string (nullable = true)\n",
      " |-- Age: string (nullable = true)\n",
      " |-- SibSp: string (nullable = true)\n",
      " |-- Parch: string (nullable = true)\n",
      " |-- Ticket: string (nullable = true)\n",
      " |-- Fare: string (nullable = true)\n",
      " |-- Cabin: string (nullable = true)\n",
      " |-- Embarked: string (nullable = true)\n",
      "\n"
     ]
    }
   ],
   "source": [
    "# Quanto se tem cabeçalho, a opção header deve ser informada como \"True\".\n",
    "# Se inferSchema não for informado (\"False\" por padrão), todas os valores serão importados como string\n",
    "df_1 = spark.read.csv('titanic.csv', header=True)\n",
    "df_1.printSchema()"
   ]
  },
  {
   "cell_type": "code",
   "execution_count": 8,
   "id": "8f0ccd60",
   "metadata": {},
   "outputs": [
    {
     "name": "stdout",
     "output_type": "stream",
     "text": [
      "root\n",
      " |-- PassengerId: integer (nullable = true)\n",
      " |-- Survived: integer (nullable = true)\n",
      " |-- Pclass: integer (nullable = true)\n",
      " |-- Name: string (nullable = true)\n",
      " |-- Sex: string (nullable = true)\n",
      " |-- Age: double (nullable = true)\n",
      " |-- SibSp: integer (nullable = true)\n",
      " |-- Parch: integer (nullable = true)\n",
      " |-- Ticket: string (nullable = true)\n",
      " |-- Fare: double (nullable = true)\n",
      " |-- Cabin: string (nullable = true)\n",
      " |-- Embarked: string (nullable = true)\n",
      "\n"
     ]
    }
   ],
   "source": [
    "df_1 = spark.read.csv('titanic.csv', header=True, inferSchema=True)\n",
    "df_1.printSchema()"
   ]
  },
  {
   "cell_type": "markdown",
   "id": "f0ef2675",
   "metadata": {},
   "source": [
    "Uma outra opção de realizar a leitura é mostrada abaixo."
   ]
  },
  {
   "cell_type": "code",
   "execution_count": 9,
   "id": "14f87cbe",
   "metadata": {},
   "outputs": [],
   "source": [
    "df_pyspark = spark.read.option('header', 'True').csv('titanic.csv', inferSchema=True)"
   ]
  },
  {
   "cell_type": "code",
   "execution_count": 10,
   "id": "07bec236",
   "metadata": {},
   "outputs": [
    {
     "data": {
      "text/plain": [
       "pyspark.sql.dataframe.DataFrame"
      ]
     },
     "execution_count": 10,
     "metadata": {},
     "output_type": "execute_result"
    }
   ],
   "source": [
    "# Tipo do Dataframe\n",
    "type(df_pyspark)"
   ]
  },
  {
   "cell_type": "code",
   "execution_count": 11,
   "id": "2e631cdb",
   "metadata": {},
   "outputs": [
    {
     "data": {
      "text/plain": [
       "[Row(PassengerId=1, Survived=0, Pclass=3, Name='Braund, Mr. Owen Harris', Sex='male', Age=22.0, SibSp=1, Parch=0, Ticket='A/5 21171', Fare=7.25, Cabin=None, Embarked='S'),\n",
       " Row(PassengerId=2, Survived=1, Pclass=1, Name='Cumings, Mrs. John Bradley (Florence Briggs Thayer)', Sex='female', Age=38.0, SibSp=1, Parch=0, Ticket='PC 17599', Fare=71.2833, Cabin='C85', Embarked='C'),\n",
       " Row(PassengerId=3, Survived=1, Pclass=3, Name='Heikkinen, Miss. Laina', Sex='female', Age=26.0, SibSp=0, Parch=0, Ticket='STON/O2. 3101282', Fare=7.925, Cabin=None, Embarked='S'),\n",
       " Row(PassengerId=4, Survived=1, Pclass=1, Name='Futrelle, Mrs. Jacques Heath (Lily May Peel)', Sex='female', Age=35.0, SibSp=1, Parch=0, Ticket='113803', Fare=53.1, Cabin='C123', Embarked='S'),\n",
       " Row(PassengerId=5, Survived=0, Pclass=3, Name='Allen, Mr. William Henry', Sex='male', Age=35.0, SibSp=0, Parch=0, Ticket='373450', Fare=8.05, Cabin=None, Embarked='S')]"
      ]
     },
     "execution_count": 11,
     "metadata": {},
     "output_type": "execute_result"
    }
   ],
   "source": [
    "# No caso do dataframe pyspark.sql, quando se usar .head(x),\n",
    "# são mostradas as x linhas com o valor associado a cada uma das colunas\n",
    "df_pyspark.head(5)"
   ]
  },
  {
   "cell_type": "code",
   "execution_count": 12,
   "id": "6a513dba",
   "metadata": {},
   "outputs": [
    {
     "name": "stdout",
     "output_type": "stream",
     "text": [
      "root\n",
      " |-- PassengerId: integer (nullable = true)\n",
      " |-- Survived: integer (nullable = true)\n",
      " |-- Pclass: integer (nullable = true)\n",
      " |-- Name: string (nullable = true)\n",
      " |-- Sex: string (nullable = true)\n",
      " |-- Age: double (nullable = true)\n",
      " |-- SibSp: integer (nullable = true)\n",
      " |-- Parch: integer (nullable = true)\n",
      " |-- Ticket: string (nullable = true)\n",
      " |-- Fare: double (nullable = true)\n",
      " |-- Cabin: string (nullable = true)\n",
      " |-- Embarked: string (nullable = true)\n",
      "\n"
     ]
    }
   ],
   "source": [
    "# Similar ao .info() do pandas em que mostra o tipo da coluna.\n",
    "df_pyspark.printSchema()"
   ]
  },
  {
   "cell_type": "code",
   "execution_count": 13,
   "id": "88d68c3e",
   "metadata": {},
   "outputs": [
    {
     "data": {
      "text/plain": [
       "[('PassengerId', 'int'),\n",
       " ('Survived', 'int'),\n",
       " ('Pclass', 'int'),\n",
       " ('Name', 'string'),\n",
       " ('Sex', 'string'),\n",
       " ('Age', 'double'),\n",
       " ('SibSp', 'int'),\n",
       " ('Parch', 'int'),\n",
       " ('Ticket', 'string'),\n",
       " ('Fare', 'double'),\n",
       " ('Cabin', 'string'),\n",
       " ('Embarked', 'string')]"
      ]
     },
     "execution_count": 13,
     "metadata": {},
     "output_type": "execute_result"
    }
   ],
   "source": [
    "# Ainda, podemos usar dtypes para mostrar os tipos de cada feature\n",
    "df_pyspark.dtypes"
   ]
  },
  {
   "cell_type": "code",
   "execution_count": 14,
   "id": "694681d8",
   "metadata": {},
   "outputs": [
    {
     "data": {
      "text/plain": [
       "(['PassengerId',\n",
       "  'Survived',\n",
       "  'Pclass',\n",
       "  'Name',\n",
       "  'Sex',\n",
       "  'Age',\n",
       "  'SibSp',\n",
       "  'Parch',\n",
       "  'Ticket',\n",
       "  'Fare',\n",
       "  'Cabin',\n",
       "  'Embarked'],\n",
       " list)"
      ]
     },
     "execution_count": 14,
     "metadata": {},
     "output_type": "execute_result"
    }
   ],
   "source": [
    "# lista com o nome das colunas\n",
    "\n",
    "nome_colunas = df_pyspark.columns\n",
    "nome_colunas, type(nome_colunas)"
   ]
  },
  {
   "cell_type": "code",
   "execution_count": 15,
   "id": "56b87815",
   "metadata": {},
   "outputs": [],
   "source": [
    "# Selecionando colunas\n",
    "a = df_pyspark.select(['PassengerId', 'Survived'])"
   ]
  },
  {
   "cell_type": "code",
   "execution_count": 16,
   "id": "5913c9d3",
   "metadata": {},
   "outputs": [
    {
     "name": "stdout",
     "output_type": "stream",
     "text": [
      "+-----------+--------+\n",
      "|PassengerId|Survived|\n",
      "+-----------+--------+\n",
      "|          1|       0|\n",
      "|          2|       1|\n",
      "|          3|       1|\n",
      "|          4|       1|\n",
      "|          5|       0|\n",
      "|          6|       0|\n",
      "|          7|       0|\n",
      "|          8|       0|\n",
      "|          9|       1|\n",
      "|         10|       1|\n",
      "|         11|       1|\n",
      "|         12|       1|\n",
      "|         13|       0|\n",
      "|         14|       0|\n",
      "|         15|       0|\n",
      "|         16|       1|\n",
      "|         17|       0|\n",
      "|         18|       1|\n",
      "|         19|       0|\n",
      "|         20|       1|\n",
      "+-----------+--------+\n",
      "only showing top 20 rows\n",
      "\n"
     ]
    }
   ],
   "source": [
    "a.show()"
   ]
  },
  {
   "cell_type": "code",
   "execution_count": 17,
   "id": "844e8ecb",
   "metadata": {},
   "outputs": [
    {
     "name": "stdout",
     "output_type": "stream",
     "text": [
      "+-------+-----------------+-------------------+------------------+--------------------+------+------------------+------------------+-------------------+------------------+-----------------+-----+--------+\n",
      "|summary|      PassengerId|           Survived|            Pclass|                Name|   Sex|               Age|             SibSp|              Parch|            Ticket|             Fare|Cabin|Embarked|\n",
      "+-------+-----------------+-------------------+------------------+--------------------+------+------------------+------------------+-------------------+------------------+-----------------+-----+--------+\n",
      "|  count|              891|                891|               891|                 891|   891|               714|               891|                891|               891|              891|  204|     889|\n",
      "|   mean|            446.0| 0.3838383838383838| 2.308641975308642|                null|  null| 29.69911764705882|0.5230078563411896|0.38159371492704824|260318.54916792738| 32.2042079685746| null|    null|\n",
      "| stddev|257.3538420152301|0.48659245426485753|0.8360712409770491|                null|  null|14.526497332334035|1.1027434322934315| 0.8060572211299488|471609.26868834975|49.69342859718089| null|    null|\n",
      "|    min|                1|                  0|                 1|\"Andersson, Mr. A...|female|              0.42|                 0|                  0|            110152|              0.0|  A10|       C|\n",
      "|    max|              891|                  1|                 3|van Melkebeke, Mr...|  male|              80.0|                 8|                  6|         WE/P 5735|         512.3292|    T|       S|\n",
      "+-------+-----------------+-------------------+------------------+--------------------+------+------------------+------------------+-------------------+------------------+-----------------+-----+--------+\n",
      "\n"
     ]
    }
   ],
   "source": [
    "df_pyspark.describe().show()"
   ]
  },
  {
   "cell_type": "code",
   "execution_count": 18,
   "id": "050cff54",
   "metadata": {},
   "outputs": [],
   "source": [
    "## Adicionando colunas usando pyspark\n",
    "\n",
    "a = df_pyspark.withColumn('PassengerId_novo', df_pyspark['PassengerId']+2)"
   ]
  },
  {
   "cell_type": "code",
   "execution_count": 19,
   "id": "c8414913",
   "metadata": {},
   "outputs": [
    {
     "name": "stdout",
     "output_type": "stream",
     "text": [
      "+-----------+--------+------+--------------------+------+----+-----+-----+----------------+-------+-----+--------+----------------+\n",
      "|PassengerId|Survived|Pclass|                Name|   Sex| Age|SibSp|Parch|          Ticket|   Fare|Cabin|Embarked|PassengerId_novo|\n",
      "+-----------+--------+------+--------------------+------+----+-----+-----+----------------+-------+-----+--------+----------------+\n",
      "|          1|       0|     3|Braund, Mr. Owen ...|  male|22.0|    1|    0|       A/5 21171|   7.25| null|       S|               3|\n",
      "|          2|       1|     1|Cumings, Mrs. Joh...|female|38.0|    1|    0|        PC 17599|71.2833|  C85|       C|               4|\n",
      "|          3|       1|     3|Heikkinen, Miss. ...|female|26.0|    0|    0|STON/O2. 3101282|  7.925| null|       S|               5|\n",
      "|          4|       1|     1|Futrelle, Mrs. Ja...|female|35.0|    1|    0|          113803|   53.1| C123|       S|               6|\n",
      "|          5|       0|     3|Allen, Mr. Willia...|  male|35.0|    0|    0|          373450|   8.05| null|       S|               7|\n",
      "+-----------+--------+------+--------------------+------+----+-----+-----+----------------+-------+-----+--------+----------------+\n",
      "only showing top 5 rows\n",
      "\n"
     ]
    }
   ],
   "source": [
    "a.show(5)"
   ]
  },
  {
   "cell_type": "code",
   "execution_count": 20,
   "id": "8b4f6067",
   "metadata": {},
   "outputs": [],
   "source": [
    "# removendo colunas\n",
    "\n",
    "a = df_pyspark.drop('PassengerId_novo')"
   ]
  },
  {
   "cell_type": "code",
   "execution_count": 21,
   "id": "30d502a5",
   "metadata": {},
   "outputs": [
    {
     "name": "stdout",
     "output_type": "stream",
     "text": [
      "+-----------+--------+------+--------------------+------+----+-----+-----+----------------+-------+-----+--------+\n",
      "|PassengerId|Survived|Pclass|                Name|   Sex| Age|SibSp|Parch|          Ticket|   Fare|Cabin|Embarked|\n",
      "+-----------+--------+------+--------------------+------+----+-----+-----+----------------+-------+-----+--------+\n",
      "|          1|       0|     3|Braund, Mr. Owen ...|  male|22.0|    1|    0|       A/5 21171|   7.25| null|       S|\n",
      "|          2|       1|     1|Cumings, Mrs. Joh...|female|38.0|    1|    0|        PC 17599|71.2833|  C85|       C|\n",
      "|          3|       1|     3|Heikkinen, Miss. ...|female|26.0|    0|    0|STON/O2. 3101282|  7.925| null|       S|\n",
      "|          4|       1|     1|Futrelle, Mrs. Ja...|female|35.0|    1|    0|          113803|   53.1| C123|       S|\n",
      "|          5|       0|     3|Allen, Mr. Willia...|  male|35.0|    0|    0|          373450|   8.05| null|       S|\n",
      "+-----------+--------+------+--------------------+------+----+-----+-----+----------------+-------+-----+--------+\n",
      "only showing top 5 rows\n",
      "\n"
     ]
    }
   ],
   "source": [
    "a.show(5)"
   ]
  },
  {
   "cell_type": "code",
   "execution_count": 22,
   "id": "76234c34",
   "metadata": {},
   "outputs": [],
   "source": [
    "a = a.drop('Name')"
   ]
  },
  {
   "cell_type": "code",
   "execution_count": 23,
   "id": "a032aea5",
   "metadata": {},
   "outputs": [
    {
     "name": "stdout",
     "output_type": "stream",
     "text": [
      "+-----------+--------+------+------+----+-----+-----+----------------+-------+-----+--------+\n",
      "|PassengerId|Survived|Pclass|   Sex| Age|SibSp|Parch|          Ticket|   Fare|Cabin|Embarked|\n",
      "+-----------+--------+------+------+----+-----+-----+----------------+-------+-----+--------+\n",
      "|          1|       0|     3|  male|22.0|    1|    0|       A/5 21171|   7.25| null|       S|\n",
      "|          2|       1|     1|female|38.0|    1|    0|        PC 17599|71.2833|  C85|       C|\n",
      "|          3|       1|     3|female|26.0|    0|    0|STON/O2. 3101282|  7.925| null|       S|\n",
      "|          4|       1|     1|female|35.0|    1|    0|          113803|   53.1| C123|       S|\n",
      "|          5|       0|     3|  male|35.0|    0|    0|          373450|   8.05| null|       S|\n",
      "+-----------+--------+------+------+----+-----+-----+----------------+-------+-----+--------+\n",
      "only showing top 5 rows\n",
      "\n"
     ]
    }
   ],
   "source": [
    "a.show(5)"
   ]
  },
  {
   "cell_type": "code",
   "execution_count": 24,
   "id": "837d3756",
   "metadata": {},
   "outputs": [],
   "source": [
    "# Renomeando colunas\n",
    "\n",
    "a = a.withColumnRenamed('PassengerId', 'Id')"
   ]
  },
  {
   "cell_type": "code",
   "execution_count": 25,
   "id": "b443dfae",
   "metadata": {},
   "outputs": [
    {
     "name": "stdout",
     "output_type": "stream",
     "text": [
      "+---+--------+------+------+----+-----+-----+----------------+-------+-----+--------+\n",
      "| Id|Survived|Pclass|   Sex| Age|SibSp|Parch|          Ticket|   Fare|Cabin|Embarked|\n",
      "+---+--------+------+------+----+-----+-----+----------------+-------+-----+--------+\n",
      "|  1|       0|     3|  male|22.0|    1|    0|       A/5 21171|   7.25| null|       S|\n",
      "|  2|       1|     1|female|38.0|    1|    0|        PC 17599|71.2833|  C85|       C|\n",
      "|  3|       1|     3|female|26.0|    0|    0|STON/O2. 3101282|  7.925| null|       S|\n",
      "|  4|       1|     1|female|35.0|    1|    0|          113803|   53.1| C123|       S|\n",
      "|  5|       0|     3|  male|35.0|    0|    0|          373450|   8.05| null|       S|\n",
      "|  6|       0|     3|  male|null|    0|    0|          330877| 8.4583| null|       Q|\n",
      "|  7|       0|     1|  male|54.0|    0|    0|           17463|51.8625|  E46|       S|\n",
      "|  8|       0|     3|  male| 2.0|    3|    1|          349909| 21.075| null|       S|\n",
      "|  9|       1|     3|female|27.0|    0|    2|          347742|11.1333| null|       S|\n",
      "| 10|       1|     2|female|14.0|    1|    0|          237736|30.0708| null|       C|\n",
      "| 11|       1|     3|female| 4.0|    1|    1|         PP 9549|   16.7|   G6|       S|\n",
      "| 12|       1|     1|female|58.0|    0|    0|          113783|  26.55| C103|       S|\n",
      "| 13|       0|     3|  male|20.0|    0|    0|       A/5. 2151|   8.05| null|       S|\n",
      "| 14|       0|     3|  male|39.0|    1|    5|          347082| 31.275| null|       S|\n",
      "| 15|       0|     3|female|14.0|    0|    0|          350406| 7.8542| null|       S|\n",
      "| 16|       1|     2|female|55.0|    0|    0|          248706|   16.0| null|       S|\n",
      "| 17|       0|     3|  male| 2.0|    4|    1|          382652| 29.125| null|       Q|\n",
      "| 18|       1|     2|  male|null|    0|    0|          244373|   13.0| null|       S|\n",
      "| 19|       0|     3|female|31.0|    1|    0|          345763|   18.0| null|       S|\n",
      "| 20|       1|     3|female|null|    0|    0|            2649|  7.225| null|       C|\n",
      "+---+--------+------+------+----+-----+-----+----------------+-------+-----+--------+\n",
      "only showing top 20 rows\n",
      "\n"
     ]
    }
   ],
   "source": [
    "a.show()"
   ]
  },
  {
   "cell_type": "code",
   "execution_count": 27,
   "id": "8bfd2c2e",
   "metadata": {},
   "outputs": [
    {
     "name": "stdout",
     "output_type": "stream",
     "text": [
      "+---+--------+------+------+----+-----+-----+-----------+--------+-----------+--------+\n",
      "| Id|Survived|Pclass|   Sex| Age|SibSp|Parch|     Ticket|    Fare|      Cabin|Embarked|\n",
      "+---+--------+------+------+----+-----+-----+-----------+--------+-----------+--------+\n",
      "|  2|       1|     1|female|38.0|    1|    0|   PC 17599| 71.2833|        C85|       C|\n",
      "|  4|       1|     1|female|35.0|    1|    0|     113803|    53.1|       C123|       S|\n",
      "|  7|       0|     1|  male|54.0|    0|    0|      17463| 51.8625|        E46|       S|\n",
      "| 11|       1|     3|female| 4.0|    1|    1|    PP 9549|    16.7|         G6|       S|\n",
      "| 12|       1|     1|female|58.0|    0|    0|     113783|   26.55|       C103|       S|\n",
      "| 22|       1|     2|  male|34.0|    0|    0|     248698|    13.0|        D56|       S|\n",
      "| 24|       1|     1|  male|28.0|    0|    0|     113788|    35.5|         A6|       S|\n",
      "| 28|       0|     1|  male|19.0|    3|    2|      19950|   263.0|C23 C25 C27|       S|\n",
      "| 53|       1|     1|female|49.0|    1|    0|   PC 17572| 76.7292|        D33|       C|\n",
      "| 55|       0|     1|  male|65.0|    0|    1|     113509| 61.9792|        B30|       C|\n",
      "| 63|       0|     1|  male|45.0|    1|    0|      36973|  83.475|        C83|       S|\n",
      "| 67|       1|     2|female|29.0|    0|    0| C.A. 29395|    10.5|        F33|       S|\n",
      "| 76|       0|     3|  male|25.0|    0|    0|     348123|    7.65|      F G73|       S|\n",
      "| 89|       1|     1|female|23.0|    3|    2|      19950|   263.0|C23 C25 C27|       S|\n",
      "| 93|       0|     1|  male|46.0|    1|    0|W.E.P. 5734|  61.175|        E31|       S|\n",
      "| 97|       0|     1|  male|71.0|    0|    0|   PC 17754| 34.6542|         A5|       C|\n",
      "| 98|       1|     1|  male|23.0|    0|    1|   PC 17759| 63.3583|    D10 D12|       C|\n",
      "|103|       0|     1|  male|21.0|    0|    1|      35281| 77.2875|        D26|       S|\n",
      "|111|       0|     1|  male|47.0|    0|    0|     110465|    52.0|       C110|       S|\n",
      "|119|       0|     1|  male|24.0|    0|    1|   PC 17558|247.5208|    B58 B60|       C|\n",
      "+---+--------+------+------+----+-----+-----+-----------+--------+-----------+--------+\n",
      "only showing top 20 rows\n",
      "\n"
     ]
    }
   ],
   "source": [
    "# Remover linhas com valores nulos.\n",
    "# Nesse caso, qualquer linha que apresentar um valor nulo em alguma coluna, será removida\n",
    "\n",
    "a.na.drop().show()"
   ]
  },
  {
   "cell_type": "code",
   "execution_count": 29,
   "id": "2c37b5ce",
   "metadata": {},
   "outputs": [
    {
     "name": "stdout",
     "output_type": "stream",
     "text": [
      "+---+--------+------+------+----+-----+-----+----------------+-------+-----+--------+\n",
      "| Id|Survived|Pclass|   Sex| Age|SibSp|Parch|          Ticket|   Fare|Cabin|Embarked|\n",
      "+---+--------+------+------+----+-----+-----+----------------+-------+-----+--------+\n",
      "|  1|       0|     3|  male|22.0|    1|    0|       A/5 21171|   7.25| null|       S|\n",
      "|  2|       1|     1|female|38.0|    1|    0|        PC 17599|71.2833|  C85|       C|\n",
      "|  3|       1|     3|female|26.0|    0|    0|STON/O2. 3101282|  7.925| null|       S|\n",
      "|  4|       1|     1|female|35.0|    1|    0|          113803|   53.1| C123|       S|\n",
      "|  5|       0|     3|  male|35.0|    0|    0|          373450|   8.05| null|       S|\n",
      "|  6|       0|     3|  male|null|    0|    0|          330877| 8.4583| null|       Q|\n",
      "|  7|       0|     1|  male|54.0|    0|    0|           17463|51.8625|  E46|       S|\n",
      "|  8|       0|     3|  male| 2.0|    3|    1|          349909| 21.075| null|       S|\n",
      "|  9|       1|     3|female|27.0|    0|    2|          347742|11.1333| null|       S|\n",
      "| 10|       1|     2|female|14.0|    1|    0|          237736|30.0708| null|       C|\n",
      "| 11|       1|     3|female| 4.0|    1|    1|         PP 9549|   16.7|   G6|       S|\n",
      "| 12|       1|     1|female|58.0|    0|    0|          113783|  26.55| C103|       S|\n",
      "| 13|       0|     3|  male|20.0|    0|    0|       A/5. 2151|   8.05| null|       S|\n",
      "| 14|       0|     3|  male|39.0|    1|    5|          347082| 31.275| null|       S|\n",
      "| 15|       0|     3|female|14.0|    0|    0|          350406| 7.8542| null|       S|\n",
      "| 16|       1|     2|female|55.0|    0|    0|          248706|   16.0| null|       S|\n",
      "| 17|       0|     3|  male| 2.0|    4|    1|          382652| 29.125| null|       Q|\n",
      "| 18|       1|     2|  male|null|    0|    0|          244373|   13.0| null|       S|\n",
      "| 19|       0|     3|female|31.0|    1|    0|          345763|   18.0| null|       S|\n",
      "| 20|       1|     3|female|null|    0|    0|            2649|  7.225| null|       C|\n",
      "+---+--------+------+------+----+-----+-----+----------------+-------+-----+--------+\n",
      "only showing top 20 rows\n",
      "\n"
     ]
    }
   ],
   "source": [
    "# Remover linhas com valores nulos em todas as colunas\n",
    "\n",
    "a.na.drop(how='all').show()"
   ]
  },
  {
   "cell_type": "code",
   "execution_count": 30,
   "id": "c71fd80c",
   "metadata": {},
   "outputs": [
    {
     "name": "stdout",
     "output_type": "stream",
     "text": [
      "+---+--------+------+------+----+-----+-----+-----------+--------+-----------+--------+\n",
      "| Id|Survived|Pclass|   Sex| Age|SibSp|Parch|     Ticket|    Fare|      Cabin|Embarked|\n",
      "+---+--------+------+------+----+-----+-----+-----------+--------+-----------+--------+\n",
      "|  2|       1|     1|female|38.0|    1|    0|   PC 17599| 71.2833|        C85|       C|\n",
      "|  4|       1|     1|female|35.0|    1|    0|     113803|    53.1|       C123|       S|\n",
      "|  7|       0|     1|  male|54.0|    0|    0|      17463| 51.8625|        E46|       S|\n",
      "| 11|       1|     3|female| 4.0|    1|    1|    PP 9549|    16.7|         G6|       S|\n",
      "| 12|       1|     1|female|58.0|    0|    0|     113783|   26.55|       C103|       S|\n",
      "| 22|       1|     2|  male|34.0|    0|    0|     248698|    13.0|        D56|       S|\n",
      "| 24|       1|     1|  male|28.0|    0|    0|     113788|    35.5|         A6|       S|\n",
      "| 28|       0|     1|  male|19.0|    3|    2|      19950|   263.0|C23 C25 C27|       S|\n",
      "| 53|       1|     1|female|49.0|    1|    0|   PC 17572| 76.7292|        D33|       C|\n",
      "| 55|       0|     1|  male|65.0|    0|    1|     113509| 61.9792|        B30|       C|\n",
      "| 63|       0|     1|  male|45.0|    1|    0|      36973|  83.475|        C83|       S|\n",
      "| 67|       1|     2|female|29.0|    0|    0| C.A. 29395|    10.5|        F33|       S|\n",
      "| 76|       0|     3|  male|25.0|    0|    0|     348123|    7.65|      F G73|       S|\n",
      "| 89|       1|     1|female|23.0|    3|    2|      19950|   263.0|C23 C25 C27|       S|\n",
      "| 93|       0|     1|  male|46.0|    1|    0|W.E.P. 5734|  61.175|        E31|       S|\n",
      "| 97|       0|     1|  male|71.0|    0|    0|   PC 17754| 34.6542|         A5|       C|\n",
      "| 98|       1|     1|  male|23.0|    0|    1|   PC 17759| 63.3583|    D10 D12|       C|\n",
      "|103|       0|     1|  male|21.0|    0|    1|      35281| 77.2875|        D26|       S|\n",
      "|111|       0|     1|  male|47.0|    0|    0|     110465|    52.0|       C110|       S|\n",
      "|119|       0|     1|  male|24.0|    0|    1|   PC 17558|247.5208|    B58 B60|       C|\n",
      "+---+--------+------+------+----+-----+-----+-----------+--------+-----------+--------+\n",
      "only showing top 20 rows\n",
      "\n"
     ]
    }
   ],
   "source": [
    "# Remover linhas com valores nulos (how = 'any' por padrão)\n",
    "\n",
    "a.na.drop(how='any').show()"
   ]
  },
  {
   "cell_type": "code",
   "execution_count": 33,
   "id": "7c5ee167",
   "metadata": {},
   "outputs": [
    {
     "name": "stdout",
     "output_type": "stream",
     "text": [
      "+---+--------+------+------+----+-----+-----+----------------+-------+-----+--------+\n",
      "| Id|Survived|Pclass|   Sex| Age|SibSp|Parch|          Ticket|   Fare|Cabin|Embarked|\n",
      "+---+--------+------+------+----+-----+-----+----------------+-------+-----+--------+\n",
      "|  1|       0|     3|  male|22.0|    1|    0|       A/5 21171|   7.25| null|       S|\n",
      "|  2|       1|     1|female|38.0|    1|    0|        PC 17599|71.2833|  C85|       C|\n",
      "|  3|       1|     3|female|26.0|    0|    0|STON/O2. 3101282|  7.925| null|       S|\n",
      "|  4|       1|     1|female|35.0|    1|    0|          113803|   53.1| C123|       S|\n",
      "|  5|       0|     3|  male|35.0|    0|    0|          373450|   8.05| null|       S|\n",
      "|  7|       0|     1|  male|54.0|    0|    0|           17463|51.8625|  E46|       S|\n",
      "|  8|       0|     3|  male| 2.0|    3|    1|          349909| 21.075| null|       S|\n",
      "|  9|       1|     3|female|27.0|    0|    2|          347742|11.1333| null|       S|\n",
      "| 10|       1|     2|female|14.0|    1|    0|          237736|30.0708| null|       C|\n",
      "| 11|       1|     3|female| 4.0|    1|    1|         PP 9549|   16.7|   G6|       S|\n",
      "| 12|       1|     1|female|58.0|    0|    0|          113783|  26.55| C103|       S|\n",
      "| 13|       0|     3|  male|20.0|    0|    0|       A/5. 2151|   8.05| null|       S|\n",
      "| 14|       0|     3|  male|39.0|    1|    5|          347082| 31.275| null|       S|\n",
      "| 15|       0|     3|female|14.0|    0|    0|          350406| 7.8542| null|       S|\n",
      "| 16|       1|     2|female|55.0|    0|    0|          248706|   16.0| null|       S|\n",
      "| 17|       0|     3|  male| 2.0|    4|    1|          382652| 29.125| null|       Q|\n",
      "| 19|       0|     3|female|31.0|    1|    0|          345763|   18.0| null|       S|\n",
      "| 21|       0|     2|  male|35.0|    0|    0|          239865|   26.0| null|       S|\n",
      "| 22|       1|     2|  male|34.0|    0|    0|          248698|   13.0|  D56|       S|\n",
      "| 23|       1|     3|female|15.0|    0|    0|          330923| 8.0292| null|       Q|\n",
      "+---+--------+------+------+----+-----+-----+----------------+-------+-----+--------+\n",
      "only showing top 20 rows\n",
      "\n"
     ]
    }
   ],
   "source": [
    "# Remover linhas com valores nulos (how = 'any' por padrão)\n",
    "# threshold = thresh = x. Especifica o número de valores não nulos que uma linha deve\n",
    "# conter para não ser deletada.\n",
    "\n",
    "a.na.drop(how='any', thresh=10).show()"
   ]
  },
  {
   "cell_type": "code",
   "execution_count": 35,
   "id": "011c41e3",
   "metadata": {},
   "outputs": [
    {
     "name": "stdout",
     "output_type": "stream",
     "text": [
      "+---+--------+------+------+----+-----+-----+-----------+--------+-----------+--------+\n",
      "| Id|Survived|Pclass|   Sex| Age|SibSp|Parch|     Ticket|    Fare|      Cabin|Embarked|\n",
      "+---+--------+------+------+----+-----+-----+-----------+--------+-----------+--------+\n",
      "|  2|       1|     1|female|38.0|    1|    0|   PC 17599| 71.2833|        C85|       C|\n",
      "|  4|       1|     1|female|35.0|    1|    0|     113803|    53.1|       C123|       S|\n",
      "|  7|       0|     1|  male|54.0|    0|    0|      17463| 51.8625|        E46|       S|\n",
      "| 11|       1|     3|female| 4.0|    1|    1|    PP 9549|    16.7|         G6|       S|\n",
      "| 12|       1|     1|female|58.0|    0|    0|     113783|   26.55|       C103|       S|\n",
      "| 22|       1|     2|  male|34.0|    0|    0|     248698|    13.0|        D56|       S|\n",
      "| 24|       1|     1|  male|28.0|    0|    0|     113788|    35.5|         A6|       S|\n",
      "| 28|       0|     1|  male|19.0|    3|    2|      19950|   263.0|C23 C25 C27|       S|\n",
      "| 32|       1|     1|female|null|    1|    0|   PC 17569|146.5208|        B78|       C|\n",
      "| 53|       1|     1|female|49.0|    1|    0|   PC 17572| 76.7292|        D33|       C|\n",
      "| 55|       0|     1|  male|65.0|    0|    1|     113509| 61.9792|        B30|       C|\n",
      "| 56|       1|     1|  male|null|    0|    0|      19947|    35.5|        C52|       S|\n",
      "| 62|       1|     1|female|38.0|    0|    0|     113572|    80.0|        B28|    null|\n",
      "| 63|       0|     1|  male|45.0|    1|    0|      36973|  83.475|        C83|       S|\n",
      "| 67|       1|     2|female|29.0|    0|    0| C.A. 29395|    10.5|        F33|       S|\n",
      "| 76|       0|     3|  male|25.0|    0|    0|     348123|    7.65|      F G73|       S|\n",
      "| 89|       1|     1|female|23.0|    3|    2|      19950|   263.0|C23 C25 C27|       S|\n",
      "| 93|       0|     1|  male|46.0|    1|    0|W.E.P. 5734|  61.175|        E31|       S|\n",
      "| 97|       0|     1|  male|71.0|    0|    0|   PC 17754| 34.6542|         A5|       C|\n",
      "| 98|       1|     1|  male|23.0|    0|    1|   PC 17759| 63.3583|    D10 D12|       C|\n",
      "+---+--------+------+------+----+-----+-----+-----------+--------+-----------+--------+\n",
      "only showing top 20 rows\n",
      "\n"
     ]
    }
   ],
   "source": [
    "# Remover linhas com valores nulos (how = 'any' por padrão)\n",
    "# subset permite selecionar uma coluna específica. Sempre que a linha apresentar valor nulo naquela coluna\n",
    "# a linha será deletada\n",
    "\n",
    "a.na.drop(how='any', subset=['Cabin', 'Ticket']).show()"
   ]
  },
  {
   "cell_type": "code",
   "execution_count": 37,
   "id": "6c5178c6",
   "metadata": {},
   "outputs": [
    {
     "name": "stdout",
     "output_type": "stream",
     "text": [
      "+---+--------+------+------+----+-----+-----+----------------+-------+----------+--------+\n",
      "| Id|Survived|Pclass|   Sex| Age|SibSp|Parch|          Ticket|   Fare|     Cabin|Embarked|\n",
      "+---+--------+------+------+----+-----+-----+----------------+-------+----------+--------+\n",
      "|  1|       0|     3|  male|22.0|    1|    0|       A/5 21171|   7.25|PREENCHIDO|       S|\n",
      "|  2|       1|     1|female|38.0|    1|    0|        PC 17599|71.2833|       C85|       C|\n",
      "|  3|       1|     3|female|26.0|    0|    0|STON/O2. 3101282|  7.925|PREENCHIDO|       S|\n",
      "|  4|       1|     1|female|35.0|    1|    0|          113803|   53.1|      C123|       S|\n",
      "|  5|       0|     3|  male|35.0|    0|    0|          373450|   8.05|PREENCHIDO|       S|\n",
      "|  6|       0|     3|  male|null|    0|    0|          330877| 8.4583|PREENCHIDO|       Q|\n",
      "|  7|       0|     1|  male|54.0|    0|    0|           17463|51.8625|       E46|       S|\n",
      "|  8|       0|     3|  male| 2.0|    3|    1|          349909| 21.075|PREENCHIDO|       S|\n",
      "|  9|       1|     3|female|27.0|    0|    2|          347742|11.1333|PREENCHIDO|       S|\n",
      "| 10|       1|     2|female|14.0|    1|    0|          237736|30.0708|PREENCHIDO|       C|\n",
      "| 11|       1|     3|female| 4.0|    1|    1|         PP 9549|   16.7|        G6|       S|\n",
      "| 12|       1|     1|female|58.0|    0|    0|          113783|  26.55|      C103|       S|\n",
      "| 13|       0|     3|  male|20.0|    0|    0|       A/5. 2151|   8.05|PREENCHIDO|       S|\n",
      "| 14|       0|     3|  male|39.0|    1|    5|          347082| 31.275|PREENCHIDO|       S|\n",
      "| 15|       0|     3|female|14.0|    0|    0|          350406| 7.8542|PREENCHIDO|       S|\n",
      "| 16|       1|     2|female|55.0|    0|    0|          248706|   16.0|PREENCHIDO|       S|\n",
      "| 17|       0|     3|  male| 2.0|    4|    1|          382652| 29.125|PREENCHIDO|       Q|\n",
      "| 18|       1|     2|  male|null|    0|    0|          244373|   13.0|PREENCHIDO|       S|\n",
      "| 19|       0|     3|female|31.0|    1|    0|          345763|   18.0|PREENCHIDO|       S|\n",
      "| 20|       1|     3|female|null|    0|    0|            2649|  7.225|PREENCHIDO|       C|\n",
      "+---+--------+------+------+----+-----+-----+----------------+-------+----------+--------+\n",
      "only showing top 20 rows\n",
      "\n"
     ]
    }
   ],
   "source": [
    "# Preenchendo valores nulos das colunas\n",
    "\n",
    "a.na.fill('PREENCHIDO', ['Cabin', 'Ticket']).show()"
   ]
  },
  {
   "cell_type": "code",
   "execution_count": 39,
   "id": "20fba726",
   "metadata": {},
   "outputs": [],
   "source": [
    "# Preenchendo valores usando a média. Função built-in pyspark Imputer\n",
    "\n",
    "from pyspark.ml.feature import Imputer\n",
    "\n",
    "imputer = Imputer(inputCols = ['Age', 'Fare'],\n",
    "                 outputCols = [\"{}_imputed\".format(c) for c in ['Age', 'Fare']]).setStrategy(\"mean\")\n",
    "\n",
    "# podemos usar \"mean\", \"median\" ou \"modal\""
   ]
  },
  {
   "cell_type": "code",
   "execution_count": 40,
   "id": "54790276",
   "metadata": {},
   "outputs": [
    {
     "name": "stdout",
     "output_type": "stream",
     "text": [
      "+---+--------+------+------+----+-----+-----+----------------+-------+-----+--------+-----------------+------------+\n",
      "| Id|Survived|Pclass|   Sex| Age|SibSp|Parch|          Ticket|   Fare|Cabin|Embarked|      Age_imputed|Fare_imputed|\n",
      "+---+--------+------+------+----+-----+-----+----------------+-------+-----+--------+-----------------+------------+\n",
      "|  1|       0|     3|  male|22.0|    1|    0|       A/5 21171|   7.25| null|       S|             22.0|        7.25|\n",
      "|  2|       1|     1|female|38.0|    1|    0|        PC 17599|71.2833|  C85|       C|             38.0|     71.2833|\n",
      "|  3|       1|     3|female|26.0|    0|    0|STON/O2. 3101282|  7.925| null|       S|             26.0|       7.925|\n",
      "|  4|       1|     1|female|35.0|    1|    0|          113803|   53.1| C123|       S|             35.0|        53.1|\n",
      "|  5|       0|     3|  male|35.0|    0|    0|          373450|   8.05| null|       S|             35.0|        8.05|\n",
      "|  6|       0|     3|  male|null|    0|    0|          330877| 8.4583| null|       Q|29.69911764705882|      8.4583|\n",
      "|  7|       0|     1|  male|54.0|    0|    0|           17463|51.8625|  E46|       S|             54.0|     51.8625|\n",
      "|  8|       0|     3|  male| 2.0|    3|    1|          349909| 21.075| null|       S|              2.0|      21.075|\n",
      "|  9|       1|     3|female|27.0|    0|    2|          347742|11.1333| null|       S|             27.0|     11.1333|\n",
      "| 10|       1|     2|female|14.0|    1|    0|          237736|30.0708| null|       C|             14.0|     30.0708|\n",
      "| 11|       1|     3|female| 4.0|    1|    1|         PP 9549|   16.7|   G6|       S|              4.0|        16.7|\n",
      "| 12|       1|     1|female|58.0|    0|    0|          113783|  26.55| C103|       S|             58.0|       26.55|\n",
      "| 13|       0|     3|  male|20.0|    0|    0|       A/5. 2151|   8.05| null|       S|             20.0|        8.05|\n",
      "| 14|       0|     3|  male|39.0|    1|    5|          347082| 31.275| null|       S|             39.0|      31.275|\n",
      "| 15|       0|     3|female|14.0|    0|    0|          350406| 7.8542| null|       S|             14.0|      7.8542|\n",
      "| 16|       1|     2|female|55.0|    0|    0|          248706|   16.0| null|       S|             55.0|        16.0|\n",
      "| 17|       0|     3|  male| 2.0|    4|    1|          382652| 29.125| null|       Q|              2.0|      29.125|\n",
      "| 18|       1|     2|  male|null|    0|    0|          244373|   13.0| null|       S|29.69911764705882|        13.0|\n",
      "| 19|       0|     3|female|31.0|    1|    0|          345763|   18.0| null|       S|             31.0|        18.0|\n",
      "| 20|       1|     3|female|null|    0|    0|            2649|  7.225| null|       C|29.69911764705882|       7.225|\n",
      "+---+--------+------+------+----+-----+-----+----------------+-------+-----+--------+-----------------+------------+\n",
      "only showing top 20 rows\n",
      "\n"
     ]
    }
   ],
   "source": [
    "imputer.fit(a).transform(a).show()"
   ]
  },
  {
   "cell_type": "code",
   "execution_count": 41,
   "id": "e4e9523f",
   "metadata": {},
   "outputs": [
    {
     "name": "stdout",
     "output_type": "stream",
     "text": [
      "+---+--------+------+------+-----------------+-----+-----+----------------+-------+-----+--------+\n",
      "| Id|Survived|Pclass|   Sex|              Age|SibSp|Parch|          Ticket|   Fare|Cabin|Embarked|\n",
      "+---+--------+------+------+-----------------+-----+-----+----------------+-------+-----+--------+\n",
      "|  1|       0|     3|  male|             22.0|    1|    0|       A/5 21171|   7.25| null|       S|\n",
      "|  2|       1|     1|female|             38.0|    1|    0|        PC 17599|71.2833|  C85|       C|\n",
      "|  3|       1|     3|female|             26.0|    0|    0|STON/O2. 3101282|  7.925| null|       S|\n",
      "|  4|       1|     1|female|             35.0|    1|    0|          113803|   53.1| C123|       S|\n",
      "|  5|       0|     3|  male|             35.0|    0|    0|          373450|   8.05| null|       S|\n",
      "|  6|       0|     3|  male|29.69911764705882|    0|    0|          330877| 8.4583| null|       Q|\n",
      "|  7|       0|     1|  male|             54.0|    0|    0|           17463|51.8625|  E46|       S|\n",
      "|  8|       0|     3|  male|              2.0|    3|    1|          349909| 21.075| null|       S|\n",
      "|  9|       1|     3|female|             27.0|    0|    2|          347742|11.1333| null|       S|\n",
      "| 10|       1|     2|female|             14.0|    1|    0|          237736|30.0708| null|       C|\n",
      "| 11|       1|     3|female|              4.0|    1|    1|         PP 9549|   16.7|   G6|       S|\n",
      "| 12|       1|     1|female|             58.0|    0|    0|          113783|  26.55| C103|       S|\n",
      "| 13|       0|     3|  male|             20.0|    0|    0|       A/5. 2151|   8.05| null|       S|\n",
      "| 14|       0|     3|  male|             39.0|    1|    5|          347082| 31.275| null|       S|\n",
      "| 15|       0|     3|female|             14.0|    0|    0|          350406| 7.8542| null|       S|\n",
      "| 16|       1|     2|female|             55.0|    0|    0|          248706|   16.0| null|       S|\n",
      "| 17|       0|     3|  male|              2.0|    4|    1|          382652| 29.125| null|       Q|\n",
      "| 18|       1|     2|  male|29.69911764705882|    0|    0|          244373|   13.0| null|       S|\n",
      "| 19|       0|     3|female|             31.0|    1|    0|          345763|   18.0| null|       S|\n",
      "| 20|       1|     3|female|29.69911764705882|    0|    0|            2649|  7.225| null|       C|\n",
      "+---+--------+------+------+-----------------+-----+-----+----------------+-------+-----+--------+\n",
      "only showing top 20 rows\n",
      "\n"
     ]
    }
   ],
   "source": [
    "# Preenchendo valores usando a média. Função built-in pyspark Imputer\n",
    "\n",
    "from pyspark.ml.feature import Imputer\n",
    "\n",
    "imputer = Imputer(inputCols = ['Age', 'Fare'],\n",
    "                 outputCols = ['Age', 'Fare']).setStrategy(\"mean\")\n",
    "\n",
    "# podemos usar \"mean\", \"median\" ou \"modal\"\n",
    "\n",
    "imputer.fit(a).transform(a).show()"
   ]
  },
  {
   "cell_type": "code",
   "execution_count": 51,
   "id": "7b2a980b",
   "metadata": {},
   "outputs": [
    {
     "name": "stdout",
     "output_type": "stream",
     "text": [
      "+---+--------+------+------+----+-----+-----+----------------+-------+-----+--------+\n",
      "| Id|Survived|Pclass|   Sex| Age|SibSp|Parch|          Ticket|   Fare|Cabin|Embarked|\n",
      "+---+--------+------+------+----+-----+-----+----------------+-------+-----+--------+\n",
      "|  1|       0|     3|  male|22.0|    1|    0|       A/5 21171|   7.25| null|       S|\n",
      "|  2|       1|     1|female|38.0|    1|    0|        PC 17599|71.2833|  C85|       C|\n",
      "|  3|       1|     3|female|26.0|    0|    0|STON/O2. 3101282|  7.925| null|       S|\n",
      "|  4|       1|     1|female|35.0|    1|    0|          113803|   53.1| C123|       S|\n",
      "|  5|       0|     3|  male|35.0|    0|    0|          373450|   8.05| null|       S|\n",
      "|  7|       0|     1|  male|54.0|    0|    0|           17463|51.8625|  E46|       S|\n",
      "|  9|       1|     3|female|27.0|    0|    2|          347742|11.1333| null|       S|\n",
      "| 12|       1|     1|female|58.0|    0|    0|          113783|  26.55| C103|       S|\n",
      "| 14|       0|     3|  male|39.0|    1|    5|          347082| 31.275| null|       S|\n",
      "| 16|       1|     2|female|55.0|    0|    0|          248706|   16.0| null|       S|\n",
      "| 19|       0|     3|female|31.0|    1|    0|          345763|   18.0| null|       S|\n",
      "| 21|       0|     2|  male|35.0|    0|    0|          239865|   26.0| null|       S|\n",
      "| 22|       1|     2|  male|34.0|    0|    0|          248698|   13.0|  D56|       S|\n",
      "| 24|       1|     1|  male|28.0|    0|    0|          113788|   35.5|   A6|       S|\n",
      "| 26|       1|     3|female|38.0|    1|    5|          347077|31.3875| null|       S|\n",
      "| 31|       0|     1|  male|40.0|    0|    0|        PC 17601|27.7208| null|       C|\n",
      "| 34|       0|     2|  male|66.0|    0|    0|      C.A. 24579|   10.5| null|       S|\n",
      "| 35|       0|     1|  male|28.0|    1|    0|        PC 17604|82.1708| null|       C|\n",
      "| 36|       0|     1|  male|42.0|    1|    0|          113789|   52.0| null|       S|\n",
      "| 41|       0|     3|female|40.0|    1|    0|            7546|  9.475| null|       S|\n",
      "+---+--------+------+------+----+-----+-----+----------------+-------+-----+--------+\n",
      "only showing top 20 rows\n",
      "\n"
     ]
    }
   ],
   "source": [
    "# Opções de filtro\n",
    "# Exibe todas as colunas que atendem a condição do filtro informado\n",
    "\n",
    "a.filter('Age >= 22').show()"
   ]
  },
  {
   "cell_type": "code",
   "execution_count": 52,
   "id": "5a75d1a8",
   "metadata": {},
   "outputs": [
    {
     "name": "stdout",
     "output_type": "stream",
     "text": [
      "+--------+------+\n",
      "|Survived|   Sex|\n",
      "+--------+------+\n",
      "|       0|  male|\n",
      "|       1|female|\n",
      "|       1|female|\n",
      "|       1|female|\n",
      "|       0|  male|\n",
      "|       0|  male|\n",
      "|       1|female|\n",
      "|       1|female|\n",
      "|       0|  male|\n",
      "|       1|female|\n",
      "|       0|female|\n",
      "|       0|  male|\n",
      "|       1|  male|\n",
      "|       1|  male|\n",
      "|       1|female|\n",
      "|       0|  male|\n",
      "|       0|  male|\n",
      "|       0|  male|\n",
      "|       0|  male|\n",
      "|       0|female|\n",
      "+--------+------+\n",
      "only showing top 20 rows\n",
      "\n"
     ]
    }
   ],
   "source": [
    "# Opções de filtro\n",
    "# Exibe somente as colunas informadas dentro do \"select\" que atendem a condição do filtro informado\n",
    "\n",
    "a.filter('Age >= 22').select(['Survived', 'Sex']).show()"
   ]
  },
  {
   "cell_type": "code",
   "execution_count": 53,
   "id": "3cba3b80",
   "metadata": {},
   "outputs": [
    {
     "name": "stdout",
     "output_type": "stream",
     "text": [
      "+---+--------+------+----+----+-----+-----+----------+-------+-----------+--------+\n",
      "| Id|Survived|Pclass| Sex| Age|SibSp|Parch|    Ticket|   Fare|      Cabin|Embarked|\n",
      "+---+--------+------+----+----+-----+-----+----------+-------+-----------+--------+\n",
      "|  1|       0|     3|male|22.0|    1|    0| A/5 21171|   7.25|       null|       S|\n",
      "|  5|       0|     3|male|35.0|    0|    0|    373450|   8.05|       null|       S|\n",
      "|  6|       0|     3|male|null|    0|    0|    330877| 8.4583|       null|       Q|\n",
      "|  7|       0|     1|male|54.0|    0|    0|     17463|51.8625|        E46|       S|\n",
      "|  8|       0|     3|male| 2.0|    3|    1|    349909| 21.075|       null|       S|\n",
      "| 13|       0|     3|male|20.0|    0|    0| A/5. 2151|   8.05|       null|       S|\n",
      "| 14|       0|     3|male|39.0|    1|    5|    347082| 31.275|       null|       S|\n",
      "| 17|       0|     3|male| 2.0|    4|    1|    382652| 29.125|       null|       Q|\n",
      "| 18|       1|     2|male|null|    0|    0|    244373|   13.0|       null|       S|\n",
      "| 21|       0|     2|male|35.0|    0|    0|    239865|   26.0|       null|       S|\n",
      "| 22|       1|     2|male|34.0|    0|    0|    248698|   13.0|        D56|       S|\n",
      "| 24|       1|     1|male|28.0|    0|    0|    113788|   35.5|         A6|       S|\n",
      "| 27|       0|     3|male|null|    0|    0|      2631|  7.225|       null|       C|\n",
      "| 28|       0|     1|male|19.0|    3|    2|     19950|  263.0|C23 C25 C27|       S|\n",
      "| 30|       0|     3|male|null|    0|    0|    349216| 7.8958|       null|       S|\n",
      "| 31|       0|     1|male|40.0|    0|    0|  PC 17601|27.7208|       null|       C|\n",
      "| 34|       0|     2|male|66.0|    0|    0|C.A. 24579|   10.5|       null|       S|\n",
      "| 35|       0|     1|male|28.0|    1|    0|  PC 17604|82.1708|       null|       C|\n",
      "| 36|       0|     1|male|42.0|    1|    0|    113789|   52.0|       null|       S|\n",
      "| 37|       1|     3|male|null|    0|    0|      2677| 7.2292|       null|       C|\n",
      "+---+--------+------+----+----+-----+-----+----------+-------+-----------+--------+\n",
      "only showing top 20 rows\n",
      "\n"
     ]
    }
   ],
   "source": [
    "# Uma outra opção de informar a condição que deve ser atendida\n",
    "\n",
    "a.filter(a['Sex'] == 'male').show()"
   ]
  },
  {
   "cell_type": "code",
   "execution_count": 56,
   "id": "83aee2ad",
   "metadata": {},
   "outputs": [
    {
     "name": "stdout",
     "output_type": "stream",
     "text": [
      "+---+--------+------+----+----+-----+-----+--------+-------+-------+--------+\n",
      "| Id|Survived|Pclass| Sex| Age|SibSp|Parch|  Ticket|   Fare|  Cabin|Embarked|\n",
      "+---+--------+------+----+----+-----+-----+--------+-------+-------+--------+\n",
      "| 18|       1|     2|male|null|    0|    0|  244373|   13.0|   null|       S|\n",
      "| 22|       1|     2|male|34.0|    0|    0|  248698|   13.0|    D56|       S|\n",
      "| 24|       1|     1|male|28.0|    0|    0|  113788|   35.5|     A6|       S|\n",
      "| 37|       1|     3|male|null|    0|    0|    2677| 7.2292|   null|       C|\n",
      "| 56|       1|     1|male|null|    0|    0|   19947|   35.5|    C52|       S|\n",
      "| 66|       1|     3|male|null|    1|    1|    2661|15.2458|   null|       C|\n",
      "| 75|       1|     3|male|32.0|    0|    0|    1601|56.4958|   null|       S|\n",
      "| 79|       1|     2|male|0.83|    0|    2|  248738|   29.0|   null|       S|\n",
      "| 82|       1|     3|male|29.0|    0|    0|  345779|    9.5|   null|       S|\n",
      "| 98|       1|     1|male|23.0|    0|    1|PC 17759|63.3583|D10 D12|       C|\n",
      "|108|       1|     3|male|null|    0|    0|  312991|  7.775|   null|       S|\n",
      "|126|       1|     3|male|12.0|    1|    0|    2651|11.2417|   null|       C|\n",
      "|128|       1|     3|male|24.0|    0|    0| C 17369| 7.1417|   null|       S|\n",
      "|147|       1|     3|male|27.0|    0|    0|  350043| 7.7958|   null|       S|\n",
      "|166|       1|     3|male| 9.0|    0|    2|  363291| 20.525|   null|       S|\n",
      "|184|       1|     2|male| 1.0|    2|    1|  230136|   39.0|     F4|       S|\n",
      "|188|       1|     1|male|45.0|    0|    0|  111428|  26.55|   null|       S|\n",
      "|194|       1|     2|male| 3.0|    1|    1|  230080|   26.0|     F2|       S|\n",
      "|205|       1|     3|male|18.0|    0|    0|A/5 3540|   8.05|   null|       S|\n",
      "|208|       1|     3|male|26.0|    0|    0|    2699|18.7875|   null|       C|\n",
      "+---+--------+------+----+----+-----+-----+--------+-------+-------+--------+\n",
      "only showing top 20 rows\n",
      "\n"
     ]
    }
   ],
   "source": [
    "# Cada condição deve ser especificada dentro de parenteses separados (condição E)\n",
    "a.filter((a['Sex'] == 'male') & (a['Survived'] == 1)).show()"
   ]
  },
  {
   "cell_type": "code",
   "execution_count": 57,
   "id": "375f183e",
   "metadata": {},
   "outputs": [
    {
     "name": "stdout",
     "output_type": "stream",
     "text": [
      "+---+--------+------+------+----+-----+-----+----------------+-------+-----+--------+\n",
      "| Id|Survived|Pclass|   Sex| Age|SibSp|Parch|          Ticket|   Fare|Cabin|Embarked|\n",
      "+---+--------+------+------+----+-----+-----+----------------+-------+-----+--------+\n",
      "|  1|       0|     3|  male|22.0|    1|    0|       A/5 21171|   7.25| null|       S|\n",
      "|  2|       1|     1|female|38.0|    1|    0|        PC 17599|71.2833|  C85|       C|\n",
      "|  3|       1|     3|female|26.0|    0|    0|STON/O2. 3101282|  7.925| null|       S|\n",
      "|  4|       1|     1|female|35.0|    1|    0|          113803|   53.1| C123|       S|\n",
      "|  5|       0|     3|  male|35.0|    0|    0|          373450|   8.05| null|       S|\n",
      "|  6|       0|     3|  male|null|    0|    0|          330877| 8.4583| null|       Q|\n",
      "|  7|       0|     1|  male|54.0|    0|    0|           17463|51.8625|  E46|       S|\n",
      "|  8|       0|     3|  male| 2.0|    3|    1|          349909| 21.075| null|       S|\n",
      "|  9|       1|     3|female|27.0|    0|    2|          347742|11.1333| null|       S|\n",
      "| 10|       1|     2|female|14.0|    1|    0|          237736|30.0708| null|       C|\n",
      "| 11|       1|     3|female| 4.0|    1|    1|         PP 9549|   16.7|   G6|       S|\n",
      "| 12|       1|     1|female|58.0|    0|    0|          113783|  26.55| C103|       S|\n",
      "| 13|       0|     3|  male|20.0|    0|    0|       A/5. 2151|   8.05| null|       S|\n",
      "| 14|       0|     3|  male|39.0|    1|    5|          347082| 31.275| null|       S|\n",
      "| 16|       1|     2|female|55.0|    0|    0|          248706|   16.0| null|       S|\n",
      "| 17|       0|     3|  male| 2.0|    4|    1|          382652| 29.125| null|       Q|\n",
      "| 18|       1|     2|  male|null|    0|    0|          244373|   13.0| null|       S|\n",
      "| 20|       1|     3|female|null|    0|    0|            2649|  7.225| null|       C|\n",
      "| 21|       0|     2|  male|35.0|    0|    0|          239865|   26.0| null|       S|\n",
      "| 22|       1|     2|  male|34.0|    0|    0|          248698|   13.0|  D56|       S|\n",
      "+---+--------+------+------+----+-----+-----+----------------+-------+-----+--------+\n",
      "only showing top 20 rows\n",
      "\n"
     ]
    }
   ],
   "source": [
    "# Cada condição deve ser especificada dentro de parenteses separados (condição OU)\n",
    "a.filter((a['Sex'] == 'male') | (a['Survived'] == 1)).show()"
   ]
  },
  {
   "cell_type": "code",
   "execution_count": 59,
   "id": "5cb6af21",
   "metadata": {},
   "outputs": [
    {
     "name": "stdout",
     "output_type": "stream",
     "text": [
      "+---+--------+------+------+----+-----+-----+-------------+-------+-----------+--------+\n",
      "| Id|Survived|Pclass|   Sex| Age|SibSp|Parch|       Ticket|   Fare|      Cabin|Embarked|\n",
      "+---+--------+------+------+----+-----+-----+-------------+-------+-----------+--------+\n",
      "|  8|       0|     3|  male| 2.0|    3|    1|       349909| 21.075|       null|       S|\n",
      "| 10|       1|     2|female|14.0|    1|    0|       237736|30.0708|       null|       C|\n",
      "| 11|       1|     3|female| 4.0|    1|    1|      PP 9549|   16.7|         G6|       S|\n",
      "| 13|       0|     3|  male|20.0|    0|    0|    A/5. 2151|   8.05|       null|       S|\n",
      "| 15|       0|     3|female|14.0|    0|    0|       350406| 7.8542|       null|       S|\n",
      "| 17|       0|     3|  male| 2.0|    4|    1|       382652| 29.125|       null|       Q|\n",
      "| 23|       1|     3|female|15.0|    0|    0|       330923| 8.0292|       null|       Q|\n",
      "| 25|       0|     3|female| 8.0|    3|    1|       349909| 21.075|       null|       S|\n",
      "| 28|       0|     1|  male|19.0|    3|    2|        19950|  263.0|C23 C25 C27|       S|\n",
      "| 38|       0|     3|  male|21.0|    0|    0|   A./5. 2152|   8.05|       null|       S|\n",
      "| 39|       0|     3|female|18.0|    2|    0|       345764|   18.0|       null|       S|\n",
      "| 40|       1|     3|female|14.0|    1|    0|         2651|11.2417|       null|       C|\n",
      "| 44|       1|     2|female| 3.0|    1|    2|SC/Paris 2123|41.5792|       null|       C|\n",
      "| 45|       1|     3|female|19.0|    0|    0|       330958| 7.8792|       null|       Q|\n",
      "| 50|       0|     3|female|18.0|    1|    0|       349237|   17.8|       null|       S|\n",
      "| 51|       0|     3|  male| 7.0|    4|    1|      3101295|39.6875|       null|       S|\n",
      "| 52|       0|     3|  male|21.0|    0|    0|   A/4. 39886|    7.8|       null|       S|\n",
      "| 57|       1|     2|female|21.0|    0|    0|   C.A. 31026|   10.5|       null|       S|\n",
      "| 59|       1|     2|female| 5.0|    1|    2|   C.A. 34651|  27.75|       null|       S|\n",
      "| 60|       0|     3|  male|11.0|    5|    2|      CA 2144|   46.9|       null|       S|\n",
      "+---+--------+------+------+----+-----+-----+-------------+-------+-----------+--------+\n",
      "only showing top 20 rows\n",
      "\n"
     ]
    }
   ],
   "source": [
    "# Not condition (mostra a condição contrária. Nesse caso, é equivalente a < 22).\n",
    "a.filter(~(a['Age'] >= 22)).show()"
   ]
  },
  {
   "cell_type": "code",
   "execution_count": null,
   "id": "8571fc3d",
   "metadata": {},
   "outputs": [],
   "source": []
  }
 ],
 "metadata": {
  "kernelspec": {
   "display_name": "Python 3 (ipykernel)",
   "language": "python",
   "name": "python3"
  },
  "language_info": {
   "codemirror_mode": {
    "name": "ipython",
    "version": 3
   },
   "file_extension": ".py",
   "mimetype": "text/x-python",
   "name": "python",
   "nbconvert_exporter": "python",
   "pygments_lexer": "ipython3",
   "version": "3.9.7"
  }
 },
 "nbformat": 4,
 "nbformat_minor": 5
}
